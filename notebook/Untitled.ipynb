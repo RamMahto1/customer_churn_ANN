{
 "cells": [
  {
   "cell_type": "code",
   "execution_count": 1,
   "id": "a9615556-10d0-4535-8076-d401e0bbc8cf",
   "metadata": {},
   "outputs": [],
   "source": [
    "## Churn Prediction"
   ]
  },
  {
   "cell_type": "code",
   "execution_count": 2,
   "id": "e3d05e8f-6ad5-49dc-94b2-b169f9185713",
   "metadata": {},
   "outputs": [],
   "source": [
    "import pandas as pd\n",
    "import numpy as  np\n",
    "import seaborn as sns\n",
    "from matplotlib import pyplot as plt"
   ]
  },
  {
   "cell_type": "code",
   "execution_count": 5,
   "id": "cfc0ffce-a2d7-47c9-aca8-36b097635516",
   "metadata": {},
   "outputs": [
    {
     "name": "stdout",
     "output_type": "stream",
     "text": [
      "(440833, 12)\n",
      "(64374, 12)\n"
     ]
    }
   ],
   "source": [
    "train_data = pd.read_csv(\"churn_training.csv\")\n",
    "test_data = pd.read_csv(\"churn_testing.csv\")\n",
    "print(train_data.shape)\n",
    "print(test_data.shape)"
   ]
  },
  {
   "cell_type": "code",
   "execution_count": 7,
   "id": "a594cf8a-8bd4-4eca-a150-52036264f1d7",
   "metadata": {},
   "outputs": [
    {
     "data": {
      "text/plain": [
       "(505207, 12)"
      ]
     },
     "execution_count": 7,
     "metadata": {},
     "output_type": "execute_result"
    }
   ],
   "source": [
    "combined_data = pd.concat([train_data,test_data],axis=0)\n",
    "combined_data.reset_index(drop=True,inplace=True)\n",
    "combined_data.shape"
   ]
  },
  {
   "cell_type": "code",
   "execution_count": 10,
   "id": "a24a5a75-65f3-4709-91bd-afd1974a08af",
   "metadata": {},
   "outputs": [
    {
     "data": {
      "text/plain": [
       "(1000, 12)"
      ]
     },
     "execution_count": 10,
     "metadata": {},
     "output_type": "execute_result"
    }
   ],
   "source": [
    "dataset = combined_data.sample(n=1000, random_state=42).reset_index(drop=True)\n",
    "dataset.shape"
   ]
  },
  {
   "cell_type": "code",
   "execution_count": 11,
   "id": "ba11036e-766c-448d-961a-a4af8e1645a8",
   "metadata": {},
   "outputs": [],
   "source": [
    "#dataset.to_csv(\"sampled_dataset.csv\", index=False)"
   ]
  },
  {
   "cell_type": "code",
   "execution_count": 26,
   "id": "a85327db-d517-49d4-95a1-82e1a8d1401e",
   "metadata": {},
   "outputs": [
    {
     "data": {
      "text/html": [
       "<div>\n",
       "<style scoped>\n",
       "    .dataframe tbody tr th:only-of-type {\n",
       "        vertical-align: middle;\n",
       "    }\n",
       "\n",
       "    .dataframe tbody tr th {\n",
       "        vertical-align: top;\n",
       "    }\n",
       "\n",
       "    .dataframe thead th {\n",
       "        text-align: right;\n",
       "    }\n",
       "</style>\n",
       "<table border=\"1\" class=\"dataframe\">\n",
       "  <thead>\n",
       "    <tr style=\"text-align: right;\">\n",
       "      <th></th>\n",
       "      <th>CustomerID</th>\n",
       "      <th>Age</th>\n",
       "      <th>Gender</th>\n",
       "      <th>Tenure</th>\n",
       "      <th>Usage Frequency</th>\n",
       "      <th>Support Calls</th>\n",
       "      <th>Payment Delay</th>\n",
       "      <th>Subscription Type</th>\n",
       "      <th>Contract Length</th>\n",
       "      <th>Total Spend</th>\n",
       "      <th>Last Interaction</th>\n",
       "      <th>Churn</th>\n",
       "    </tr>\n",
       "  </thead>\n",
       "  <tbody>\n",
       "    <tr>\n",
       "      <th>0</th>\n",
       "      <td>92144.0</td>\n",
       "      <td>54.0</td>\n",
       "      <td>Male</td>\n",
       "      <td>5.0</td>\n",
       "      <td>20.0</td>\n",
       "      <td>1.0</td>\n",
       "      <td>3.0</td>\n",
       "      <td>Basic</td>\n",
       "      <td>Quarterly</td>\n",
       "      <td>421.00</td>\n",
       "      <td>15.0</td>\n",
       "      <td>1.0</td>\n",
       "    </tr>\n",
       "    <tr>\n",
       "      <th>1</th>\n",
       "      <td>45808.0</td>\n",
       "      <td>30.0</td>\n",
       "      <td>Female</td>\n",
       "      <td>33.0</td>\n",
       "      <td>21.0</td>\n",
       "      <td>10.0</td>\n",
       "      <td>27.0</td>\n",
       "      <td>Basic</td>\n",
       "      <td>Monthly</td>\n",
       "      <td>335.00</td>\n",
       "      <td>19.0</td>\n",
       "      <td>1.0</td>\n",
       "    </tr>\n",
       "    <tr>\n",
       "      <th>2</th>\n",
       "      <td>412308.0</td>\n",
       "      <td>48.0</td>\n",
       "      <td>Female</td>\n",
       "      <td>8.0</td>\n",
       "      <td>20.0</td>\n",
       "      <td>3.0</td>\n",
       "      <td>10.0</td>\n",
       "      <td>Basic</td>\n",
       "      <td>Quarterly</td>\n",
       "      <td>832.23</td>\n",
       "      <td>14.0</td>\n",
       "      <td>0.0</td>\n",
       "    </tr>\n",
       "    <tr>\n",
       "      <th>3</th>\n",
       "      <td>12380.0</td>\n",
       "      <td>34.0</td>\n",
       "      <td>Male</td>\n",
       "      <td>30.0</td>\n",
       "      <td>5.0</td>\n",
       "      <td>1.0</td>\n",
       "      <td>7.0</td>\n",
       "      <td>Premium</td>\n",
       "      <td>Monthly</td>\n",
       "      <td>535.00</td>\n",
       "      <td>12.0</td>\n",
       "      <td>0.0</td>\n",
       "    </tr>\n",
       "    <tr>\n",
       "      <th>4</th>\n",
       "      <td>103786.0</td>\n",
       "      <td>24.0</td>\n",
       "      <td>Female</td>\n",
       "      <td>26.0</td>\n",
       "      <td>2.0</td>\n",
       "      <td>4.0</td>\n",
       "      <td>23.0</td>\n",
       "      <td>Standard</td>\n",
       "      <td>Monthly</td>\n",
       "      <td>811.00</td>\n",
       "      <td>14.0</td>\n",
       "      <td>1.0</td>\n",
       "    </tr>\n",
       "  </tbody>\n",
       "</table>\n",
       "</div>"
      ],
      "text/plain": [
       "   CustomerID   Age  Gender  Tenure  Usage Frequency  Support Calls  \\\n",
       "0     92144.0  54.0    Male     5.0             20.0            1.0   \n",
       "1     45808.0  30.0  Female    33.0             21.0           10.0   \n",
       "2    412308.0  48.0  Female     8.0             20.0            3.0   \n",
       "3     12380.0  34.0    Male    30.0              5.0            1.0   \n",
       "4    103786.0  24.0  Female    26.0              2.0            4.0   \n",
       "\n",
       "   Payment Delay Subscription Type Contract Length  Total Spend  \\\n",
       "0            3.0             Basic       Quarterly       421.00   \n",
       "1           27.0             Basic         Monthly       335.00   \n",
       "2           10.0             Basic       Quarterly       832.23   \n",
       "3            7.0           Premium         Monthly       535.00   \n",
       "4           23.0          Standard         Monthly       811.00   \n",
       "\n",
       "   Last Interaction  Churn  \n",
       "0              15.0    1.0  \n",
       "1              19.0    1.0  \n",
       "2              14.0    0.0  \n",
       "3              12.0    0.0  \n",
       "4              14.0    1.0  "
      ]
     },
     "execution_count": 26,
     "metadata": {},
     "output_type": "execute_result"
    }
   ],
   "source": [
    "## shape of dataset\n",
    "df = dataset\n",
    "df.head()"
   ]
  },
  {
   "cell_type": "code",
   "execution_count": 29,
   "id": "089fcbd1-6679-4e01-95c9-eb399a700d7c",
   "metadata": {},
   "outputs": [
    {
     "name": "stdout",
     "output_type": "stream",
     "text": [
      "(1000, 12)\n",
      "<class 'pandas.core.frame.DataFrame'>\n",
      "RangeIndex: 1000 entries, 0 to 999\n",
      "Data columns (total 12 columns):\n",
      " #   Column             Non-Null Count  Dtype  \n",
      "---  ------             --------------  -----  \n",
      " 0   CustomerID         1000 non-null   float64\n",
      " 1   Age                1000 non-null   float64\n",
      " 2   Gender             1000 non-null   object \n",
      " 3   Tenure             1000 non-null   float64\n",
      " 4   Usage Frequency    1000 non-null   float64\n",
      " 5   Support Calls      1000 non-null   float64\n",
      " 6   Payment Delay      1000 non-null   float64\n",
      " 7   Subscription Type  1000 non-null   object \n",
      " 8   Contract Length    1000 non-null   object \n",
      " 9   Total Spend        1000 non-null   float64\n",
      " 10  Last Interaction   1000 non-null   float64\n",
      " 11  Churn              1000 non-null   float64\n",
      "dtypes: float64(9), object(3)\n",
      "memory usage: 93.9+ KB\n",
      "None\n",
      "   CustomerID   Age  Gender  Tenure  Usage Frequency  Support Calls  \\\n",
      "0     92144.0  54.0    Male     5.0             20.0            1.0   \n",
      "1     45808.0  30.0  Female    33.0             21.0           10.0   \n",
      "2    412308.0  48.0  Female     8.0             20.0            3.0   \n",
      "3     12380.0  34.0    Male    30.0              5.0            1.0   \n",
      "4    103786.0  24.0  Female    26.0              2.0            4.0   \n",
      "\n",
      "   Payment Delay Subscription Type Contract Length  Total Spend  \\\n",
      "0            3.0             Basic       Quarterly       421.00   \n",
      "1           27.0             Basic         Monthly       335.00   \n",
      "2           10.0             Basic       Quarterly       832.23   \n",
      "3            7.0           Premium         Monthly       535.00   \n",
      "4           23.0          Standard         Monthly       811.00   \n",
      "\n",
      "   Last Interaction  Churn  \n",
      "0              15.0    1.0  \n",
      "1              19.0    1.0  \n",
      "2              14.0    0.0  \n",
      "3              12.0    0.0  \n",
      "4              14.0    1.0  \n"
     ]
    }
   ],
   "source": [
    "# Quick overview\n",
    "print(df.shape)        # rows x columns\n",
    "print(df.info())       # column types and missing values\n",
    "print(df.head())       # first 5 rows\n"
   ]
  },
  {
   "cell_type": "markdown",
   "id": "fda1c6ef-d68f-4bd6-973f-2ba6ae6980fb",
   "metadata": {},
   "source": [
    "## Step 2: Check for Missing Values"
   ]
  },
  {
   "cell_type": "code",
   "execution_count": 30,
   "id": "3ca3487d-ad72-48b9-a11c-a434afbc976a",
   "metadata": {},
   "outputs": [
    {
     "name": "stdout",
     "output_type": "stream",
     "text": [
      "CustomerID           0\n",
      "Age                  0\n",
      "Gender               0\n",
      "Tenure               0\n",
      "Usage Frequency      0\n",
      "Support Calls        0\n",
      "Payment Delay        0\n",
      "Subscription Type    0\n",
      "Contract Length      0\n",
      "Total Spend          0\n",
      "Last Interaction     0\n",
      "Churn                0\n",
      "dtype: int64\n",
      "CustomerID           0.0\n",
      "Age                  0.0\n",
      "Gender               0.0\n",
      "Tenure               0.0\n",
      "Usage Frequency      0.0\n",
      "Support Calls        0.0\n",
      "Payment Delay        0.0\n",
      "Subscription Type    0.0\n",
      "Contract Length      0.0\n",
      "Total Spend          0.0\n",
      "Last Interaction     0.0\n",
      "Churn                0.0\n",
      "dtype: float64\n"
     ]
    }
   ],
   "source": [
    "# Count missing values per column\n",
    "print(df.isnull().sum())\n",
    "\n",
    "# Percentage missing\n",
    "print(df.isnull().mean() * 100)\n"
   ]
  },
  {
   "cell_type": "markdown",
   "id": "39cbc474-a263-4e65-a226-e2fb2695236c",
   "metadata": {},
   "source": [
    "## Step 3: Basic Statistics"
   ]
  },
  {
   "cell_type": "code",
   "execution_count": 33,
   "id": "f76dce74-6a99-4880-9fe6-ad3205f1528e",
   "metadata": {},
   "outputs": [
    {
     "name": "stdout",
     "output_type": "stream",
     "text": [
      "          CustomerID          Age       Tenure  Usage Frequency  \\\n",
      "count    1000.000000  1000.000000  1000.000000      1000.000000   \n",
      "mean   193727.752000    39.635000    31.249000        15.943000   \n",
      "std    137963.519091    13.076191    17.327528         8.685343   \n",
      "min       492.000000    18.000000     1.000000         1.000000   \n",
      "25%     59088.250000    29.000000    16.000000         8.000000   \n",
      "50%    181754.500000    39.500000    32.000000        16.000000   \n",
      "75%    308772.750000    49.000000    46.000000        24.000000   \n",
      "max    448293.000000    65.000000    60.000000        30.000000   \n",
      "\n",
      "       Support Calls  Payment Delay  Total Spend  Last Interaction  \\\n",
      "count    1000.000000    1000.000000   1000.00000       1000.000000   \n",
      "mean        4.124000      13.325000    622.88119         15.092000   \n",
      "std         3.168385       8.578751    243.33088          8.612532   \n",
      "min         0.000000       0.000000    100.00000          1.000000   \n",
      "25%         1.000000       6.000000    458.75000          8.000000   \n",
      "50%         3.000000      13.000000    651.06500         14.000000   \n",
      "75%         7.000000      19.000000    823.25000         23.000000   \n",
      "max        10.000000      30.000000    998.25000         30.000000   \n",
      "\n",
      "             Churn  \n",
      "count  1000.000000  \n",
      "mean      0.579000  \n",
      "std       0.493967  \n",
      "min       0.000000  \n",
      "25%       0.000000  \n",
      "50%       1.000000  \n",
      "75%       1.000000  \n",
      "max       1.000000  \n",
      "       Gender Subscription Type Contract Length\n",
      "count    1000              1000            1000\n",
      "unique      2                 3               3\n",
      "top      Male           Premium          Annual\n",
      "freq      565               338             413\n"
     ]
    }
   ],
   "source": [
    "# Numerical features\n",
    "print(df.describe())\n",
    "\n",
    "# Categorical features\n",
    "print(df.describe(include='object'))\n"
   ]
  },
  {
   "cell_type": "markdown",
   "id": "ca6e2e1c-d6b1-4165-9d53-7d9937739618",
   "metadata": {},
   "source": [
    "## Step 4: Check for Duplicates"
   ]
  },
  {
   "cell_type": "code",
   "execution_count": 34,
   "id": "51c83167-d654-408f-bc45-35b4aca905ba",
   "metadata": {},
   "outputs": [
    {
     "name": "stdout",
     "output_type": "stream",
     "text": [
      "0\n"
     ]
    }
   ],
   "source": [
    "print(df.duplicated().sum())\n",
    "# Remove duplicates if necessary\n",
    "df = df.drop_duplicates()\n"
   ]
  },
  {
   "cell_type": "markdown",
   "id": "4490fb19-dd37-466e-894c-9e808813b123",
   "metadata": {},
   "source": [
    "## Step 5: Explore Target Variable (if supervised)"
   ]
  },
  {
   "cell_type": "code",
   "execution_count": 36,
   "id": "0bb3bd17-7ecc-4d12-917f-ffd3402a0d0d",
   "metadata": {},
   "outputs": [
    {
     "data": {
      "image/png": "[encoded data removed]",
      "text/plain": [
       "<Figure size 432x288 with 1 Axes>"
      ]
     },
     "metadata": {
      "needs_background": "light"
     },
     "output_type": "display_data"
    }
   ],
   "source": [
    "import seaborn as sns\n",
    "import matplotlib.pyplot as plt\n",
    "\n",
    "# For classification\n",
    "sns.countplot(x='Churn', data=df)\n",
    "\n",
    "# For regression\n",
    "sns.histplot(df['Churn'], kde=True)\n",
    "plt.show()\n"
   ]
  },
  {
   "cell_type": "markdown",
   "id": "ebad7ed6-5d75-4dc7-9b96-8ddd0eb341c1",
   "metadata": {},
   "source": [
    "## Step 6: Explore Features"
   ]
  },
  {
   "cell_type": "code",
   "execution_count": 37,
   "id": "d2e87727-89cc-4c6d-b65b-c82b69b7685d",
   "metadata": {},
   "outputs": [],
   "source": [
    "### a) Numerical Features"
   ]
  },
  {
   "cell_type": "code",
   "execution_count": 38,
   "id": "7c77f2d7-9fe0-4b77-9907-b4966bec26bc",
   "metadata": {},
   "outputs": [
    {
     "data": {
      "image/png": "[encoded data removed]",
      "text/plain": [
       "<Figure size 864x720 with 9 Axes>"
      ]
     },
     "metadata": {
      "needs_background": "light"
     },
     "output_type": "display_data"
    },
    {
     "data": {
      "image/png": "[encoded data removed]",
      "text/plain": [
       "<Figure size 432x288 with 1 Axes>"
      ]
     },
     "metadata": {
      "needs_background": "light"
     },
     "output_type": "display_data"
    },
    {
     "data": {
      "image/png": "[encoded data removed]",
      "text/plain": [
       "<Figure size 432x288 with 1 Axes>"
      ]
     },
     "metadata": {
      "needs_background": "light"
     },
     "output_type": "display_data"
    },
    {
     "data": {
      "image/png": "[encoded data removed]",
      "text/plain": [
       "<Figure size 432x288 with 1 Axes>"
      ]
     },
     "metadata": {
      "needs_background": "light"
     },
     "output_type": "display_data"
    },
    {
     "data": {
      "image/png": "[encoded data removed]",
      "text/plain": [
       "<Figure size 432x288 with 1 Axes>"
      ]
     },
     "metadata": {
      "needs_background": "light"
     },
     "output_type": "display_data"
    },
    {
     "data": {
      "image/png": "[encoded data removed]",
      "text/plain": [
       "<Figure size 432x288 with 1 Axes>"
      ]
     },
     "metadata": {
      "needs_background": "light"
     },
     "output_type": "display_data"
    },
    {
     "data": {
      "image/png": "[encoded data removed]",
      "text/plain": [
       "<Figure size 432x288 with 1 Axes>"
      ]
     },
     "metadata": {
      "needs_background": "light"
     },
     "output_type": "display_data"
    },
    {
     "data": {
      "image/png": "[encoded data removed]",
      "text/plain": [
       "<Figure size 432x288 with 1 Axes>"
      ]
     },
     "metadata": {
      "needs_background": "light"
     },
     "output_type": "display_data"
    },
    {
     "data": {
      "image/png": "[encoded data removed]",
      "text/plain": [
       "<Figure size 432x288 with 1 Axes>"
      ]
     },
     "metadata": {
      "needs_background": "light"
     },
     "output_type": "display_data"
    },
    {
     "data": {
      "image/png": "[encoded data removed]",
      "text/plain": [
       "<Figure size 432x288 with 1 Axes>"
      ]
     },
     "metadata": {
      "needs_background": "light"
     },
     "output_type": "display_data"
    }
   ],
   "source": [
    "# Histograms\n",
    "data.select_dtypes(include='number').hist(figsize=(12,10))\n",
    "plt.show()\n",
    "\n",
    "# Boxplots for outliers\n",
    "for col in df.select_dtypes(include='number').columns:\n",
    "    sns.boxplot(x=df[col])\n",
    "    plt.show()\n"
   ]
  },
  {
   "cell_type": "markdown",
   "id": "80cf7221-853b-4beb-b5fa-281ed00a57fa",
   "metadata": {},
   "source": [
    "### b) Categorical Features"
   ]
  },
  {
   "cell_type": "code",
   "execution_count": 40,
   "id": "20d10104-31f4-459e-aa19-97f7d091d9b9",
   "metadata": {},
   "outputs": [
    {
     "name": "stdout",
     "output_type": "stream",
     "text": [
      "Male      565\n",
      "Female    435\n",
      "Name: Gender, dtype: int64\n"
     ]
    },
    {
     "data": {
      "image/png": "[encoded data removed]",
      "text/plain": [
       "<Figure size 432x288 with 1 Axes>"
      ]
     },
     "metadata": {
      "needs_background": "light"
     },
     "output_type": "display_data"
    },
    {
     "name": "stdout",
     "output_type": "stream",
     "text": [
      "Premium     338\n",
      "Basic       335\n",
      "Standard    327\n",
      "Name: Subscription Type, dtype: int64\n"
     ]
    },
    {
     "data": {
      "image/png": "[encoded data removed]",
      "text/plain": [
       "<Figure size 432x288 with 1 Axes>"
      ]
     },
     "metadata": {
      "needs_background": "light"
     },
     "output_type": "display_data"
    },
    {
     "name": "stdout",
     "output_type": "stream",
     "text": [
      "Annual       413\n",
      "Quarterly    354\n",
      "Monthly      233\n",
      "Name: Contract Length, dtype: int64\n"
     ]
    },
    {
     "data": {
      "image/png": "[encoded data removed]",
      "text/plain": [
       "<Figure size 432x288 with 1 Axes>"
      ]
     },
     "metadata": {
      "needs_background": "light"
     },
     "output_type": "display_data"
    }
   ],
   "source": [
    "for col in df.select_dtypes(include='object').columns:\n",
    "    print(df[col].value_counts())\n",
    "    sns.countplot(y=col, data=df)\n",
    "    plt.show()\n"
   ]
  },
  {
   "cell_type": "markdown",
   "id": "2ce34ef4-c787-4ef7-b22d-c80815233340",
   "metadata": {},
   "source": [
    "## Step 7: Feature Relationships"
   ]
  },
  {
   "cell_type": "markdown",
   "id": "120017e0-8707-412a-a963-39468b709a83",
   "metadata": {},
   "source": [
    "#### Correlation (numerical features)"
   ]
  },
  {
   "cell_type": "code",
   "execution_count": 42,
   "id": "42c6e755-8287-47b2-8850-5a121b03e376",
   "metadata": {},
   "outputs": [
    {
     "data": {
      "image/png": "[encoded data removed]",
      "text/plain": [
       "<Figure size 432x288 with 2 Axes>"
      ]
     },
     "metadata": {
      "needs_background": "light"
     },
     "output_type": "display_data"
    }
   ],
   "source": [
    "corr = df.corr()\n",
    "sns.heatmap(corr, annot=True, cmap='coolwarm')\n",
    "plt.show()\n"
   ]
  },
  {
   "cell_type": "markdown",
   "id": "4e3bfe44-a600-480b-ac3e-0880b4857316",
   "metadata": {},
   "source": [
    "### Categorical vs Target"
   ]
  },
  {
   "cell_type": "code",
   "execution_count": 47,
   "id": "8fb7ec1c-0bca-48da-b18f-6416b9e99254",
   "metadata": {},
   "outputs": [
    {
     "name": "stdout",
     "output_type": "stream",
     "text": [
      "<class 'pandas.core.frame.DataFrame'>\n",
      "Int64Index: 1000 entries, 0 to 999\n",
      "Data columns (total 12 columns):\n",
      " #   Column             Non-Null Count  Dtype  \n",
      "---  ------             --------------  -----  \n",
      " 0   CustomerID         1000 non-null   float64\n",
      " 1   Age                1000 non-null   float64\n",
      " 2   Gender             1000 non-null   object \n",
      " 3   Tenure             1000 non-null   float64\n",
      " 4   Usage Frequency    1000 non-null   float64\n",
      " 5   Support Calls      1000 non-null   float64\n",
      " 6   Payment Delay      1000 non-null   float64\n",
      " 7   Subscription Type  1000 non-null   object \n",
      " 8   Contract Length    1000 non-null   object \n",
      " 9   Total Spend        1000 non-null   float64\n",
      " 10  Last Interaction   1000 non-null   float64\n",
      " 11  Churn              1000 non-null   float64\n",
      "dtypes: float64(9), object(3)\n",
      "memory usage: 101.6+ KB\n"
     ]
    }
   ],
   "source": [
    "df.info()"
   ]
  },
  {
   "cell_type": "code",
   "execution_count": 48,
   "id": "16621132-6b55-448f-8518-9b10eb3af34d",
   "metadata": {},
   "outputs": [
    {
     "data": {
      "image/png": "[encoded data removed]",
      "text/plain": [
       "<Figure size 432x288 with 1 Axes>"
      ]
     },
     "metadata": {
      "needs_background": "light"
     },
     "output_type": "display_data"
    }
   ],
   "source": [
    "sns.boxplot(x='Gender', y='Churn', data=df)\n",
    "plt.show()\n"
   ]
  },
  {
   "cell_type": "markdown",
   "id": "604342c9-51d2-45c4-b904-5c8f07a1a8f6",
   "metadata": {},
   "source": [
    "### Numerical vs Target"
   ]
  },
  {
   "cell_type": "code",
   "execution_count": 49,
   "id": "3ce3c8ec-7d7d-4442-846b-a0dbf9a5c5b0",
   "metadata": {},
   "outputs": [
    {
     "data": {
      "image/png": "[encoded data removed]",
      "text/plain": [
       "<Figure size 432x288 with 1 Axes>"
      ]
     },
     "metadata": {
      "needs_background": "light"
     },
     "output_type": "display_data"
    }
   ],
   "source": [
    "sns.scatterplot(x='Age', y='Churn', data=data)\n",
    "plt.show()\n"
   ]
  },
  {
   "cell_type": "code",
   "execution_count": 50,
   "id": "dde8b7cd-724e-4e06-85ee-c2d81ce23653",
   "metadata": {},
   "outputs": [
    {
     "data": {
      "image/png": "[encoded data removed]",
      "text/plain": [
       "<Figure size 432x288 with 1 Axes>"
      ]
     },
     "metadata": {
      "needs_background": "light"
     },
     "output_type": "display_data"
    }
   ],
   "source": [
    "sns.scatterplot(x='Tenure', y='Churn', data=data)\n",
    "plt.show()\n"
   ]
  },
  {
   "cell_type": "code",
   "execution_count": 51,
   "id": "41a10375-77c8-4080-a995-3008e41f0ddf",
   "metadata": {},
   "outputs": [
    {
     "data": {
      "image/png": "[encoded data removed]",
      "text/plain": [
       "<Figure size 432x288 with 1 Axes>"
      ]
     },
     "metadata": {
      "needs_background": "light"
     },
     "output_type": "display_data"
    }
   ],
   "source": [
    "sns.scatterplot(x='Support Calls', y='Churn', data=data)\n",
    "plt.show()\n"
   ]
  },
  {
   "cell_type": "markdown",
   "id": "fee656e3-961f-4c5a-957a-356984e13ff5",
   "metadata": {},
   "source": [
    "## Step 8: Handle Outliers"
   ]
  },
  {
   "cell_type": "code",
   "execution_count": 64,
   "id": "f8cf7c50-4c1e-489f-aae8-31af58c8f2ee",
   "metadata": {},
   "outputs": [
    {
     "name": "stdout",
     "output_type": "stream",
     "text": [
      "(1000, 12)\n",
      "          CustomerID          Age       Tenure  Usage Frequency  \\\n",
      "count    1000.000000  1000.000000  1000.000000      1000.000000   \n",
      "mean   193727.752000    39.635000    31.249000        15.943000   \n",
      "std    137963.519091    13.076191    17.327528         8.685343   \n",
      "min       492.000000    18.000000     1.000000         1.000000   \n",
      "25%     59088.250000    29.000000    16.000000         8.000000   \n",
      "50%    181754.500000    39.500000    32.000000        16.000000   \n",
      "75%    308772.750000    49.000000    46.000000        24.000000   \n",
      "max    448293.000000    65.000000    60.000000        30.000000   \n",
      "\n",
      "       Support Calls  Payment Delay  Total Spend  Last Interaction  \\\n",
      "count    1000.000000    1000.000000   1000.00000       1000.000000   \n",
      "mean        4.124000      13.325000    622.88119         15.092000   \n",
      "std         3.168385       8.578751    243.33088          8.612532   \n",
      "min         0.000000       0.000000    100.00000          1.000000   \n",
      "25%         1.000000       6.000000    458.75000          8.000000   \n",
      "50%         3.000000      13.000000    651.06500         14.000000   \n",
      "75%         7.000000      19.000000    823.25000         23.000000   \n",
      "max        10.000000      30.000000    998.25000         30.000000   \n",
      "\n",
      "             Churn  \n",
      "count  1000.000000  \n",
      "mean      0.579000  \n",
      "std       0.493967  \n",
      "min       0.000000  \n",
      "25%       0.000000  \n",
      "50%       1.000000  \n",
      "75%       1.000000  \n",
      "max       1.000000  \n"
     ]
    }
   ],
   "source": [
    "# Get numeric columns\n",
    "numeric_cols = df.select_dtypes(include='number').columns\n",
    "\n",
    "# Remove outliers using IQR\n",
    "for col in numeric_cols:\n",
    "    df = df.dropna(subset=[col])  # drop NaNs\n",
    "    Q1 = df[col].quantile(0.25)\n",
    "    Q3 = df[col].quantile(0.75)\n",
    "    IQR = Q3 - Q1\n",
    "    df = df[(df[col] >= Q1 - 1.5*IQR) & (df[col] <= Q3 + 1.5*IQR)]\n",
    "\n",
    "# Check result\n",
    "print(df.shape)\n",
    "print(df.describe())\n"
   ]
  },
  {
   "cell_type": "code",
   "execution_count": 65,
   "id": "3ff834d0-e27f-454e-8037-e6cbc1ef5c22",
   "metadata": {},
   "outputs": [
    {
     "data": {
      "text/plain": [
       "1.0    579\n",
       "0.0    421\n",
       "Name: Churn, dtype: int64"
      ]
     },
     "execution_count": 65,
     "metadata": {},
     "output_type": "execute_result"
    }
   ],
   "source": [
    "df['Churn'].value_counts()"
   ]
  },
  {
   "cell_type": "code",
   "execution_count": 66,
   "id": "dcf24807-e995-4323-9520-595e4852345e",
   "metadata": {},
   "outputs": [
    {
     "data": {
      "text/html": [
       "<div>\n",
       "<style scoped>\n",
       "    .dataframe tbody tr th:only-of-type {\n",
       "        vertical-align: middle;\n",
       "    }\n",
       "\n",
       "    .dataframe tbody tr th {\n",
       "        vertical-align: top;\n",
       "    }\n",
       "\n",
       "    .dataframe thead th {\n",
       "        text-align: right;\n",
       "    }\n",
       "</style>\n",
       "<table border=\"1\" class=\"dataframe\">\n",
       "  <thead>\n",
       "    <tr style=\"text-align: right;\">\n",
       "      <th></th>\n",
       "      <th>CustomerID</th>\n",
       "      <th>Age</th>\n",
       "      <th>Gender</th>\n",
       "      <th>Tenure</th>\n",
       "      <th>Usage Frequency</th>\n",
       "      <th>Support Calls</th>\n",
       "      <th>Payment Delay</th>\n",
       "      <th>Subscription Type</th>\n",
       "      <th>Contract Length</th>\n",
       "      <th>Total Spend</th>\n",
       "      <th>Last Interaction</th>\n",
       "      <th>Churn</th>\n",
       "    </tr>\n",
       "  </thead>\n",
       "  <tbody>\n",
       "    <tr>\n",
       "      <th>0</th>\n",
       "      <td>92144.0</td>\n",
       "      <td>54.0</td>\n",
       "      <td>Male</td>\n",
       "      <td>5.0</td>\n",
       "      <td>20.0</td>\n",
       "      <td>1.0</td>\n",
       "      <td>3.0</td>\n",
       "      <td>Basic</td>\n",
       "      <td>Quarterly</td>\n",
       "      <td>421.00</td>\n",
       "      <td>15.0</td>\n",
       "      <td>1.0</td>\n",
       "    </tr>\n",
       "    <tr>\n",
       "      <th>1</th>\n",
       "      <td>45808.0</td>\n",
       "      <td>30.0</td>\n",
       "      <td>Female</td>\n",
       "      <td>33.0</td>\n",
       "      <td>21.0</td>\n",
       "      <td>10.0</td>\n",
       "      <td>27.0</td>\n",
       "      <td>Basic</td>\n",
       "      <td>Monthly</td>\n",
       "      <td>335.00</td>\n",
       "      <td>19.0</td>\n",
       "      <td>1.0</td>\n",
       "    </tr>\n",
       "    <tr>\n",
       "      <th>2</th>\n",
       "      <td>412308.0</td>\n",
       "      <td>48.0</td>\n",
       "      <td>Female</td>\n",
       "      <td>8.0</td>\n",
       "      <td>20.0</td>\n",
       "      <td>3.0</td>\n",
       "      <td>10.0</td>\n",
       "      <td>Basic</td>\n",
       "      <td>Quarterly</td>\n",
       "      <td>832.23</td>\n",
       "      <td>14.0</td>\n",
       "      <td>0.0</td>\n",
       "    </tr>\n",
       "    <tr>\n",
       "      <th>3</th>\n",
       "      <td>12380.0</td>\n",
       "      <td>34.0</td>\n",
       "      <td>Male</td>\n",
       "      <td>30.0</td>\n",
       "      <td>5.0</td>\n",
       "      <td>1.0</td>\n",
       "      <td>7.0</td>\n",
       "      <td>Premium</td>\n",
       "      <td>Monthly</td>\n",
       "      <td>535.00</td>\n",
       "      <td>12.0</td>\n",
       "      <td>0.0</td>\n",
       "    </tr>\n",
       "    <tr>\n",
       "      <th>4</th>\n",
       "      <td>103786.0</td>\n",
       "      <td>24.0</td>\n",
       "      <td>Female</td>\n",
       "      <td>26.0</td>\n",
       "      <td>2.0</td>\n",
       "      <td>4.0</td>\n",
       "      <td>23.0</td>\n",
       "      <td>Standard</td>\n",
       "      <td>Monthly</td>\n",
       "      <td>811.00</td>\n",
       "      <td>14.0</td>\n",
       "      <td>1.0</td>\n",
       "    </tr>\n",
       "  </tbody>\n",
       "</table>\n",
       "</div>"
      ],
      "text/plain": [
       "   CustomerID   Age  Gender  Tenure  Usage Frequency  Support Calls  \\\n",
       "0     92144.0  54.0    Male     5.0             20.0            1.0   \n",
       "1     45808.0  30.0  Female    33.0             21.0           10.0   \n",
       "2    412308.0  48.0  Female     8.0             20.0            3.0   \n",
       "3     12380.0  34.0    Male    30.0              5.0            1.0   \n",
       "4    103786.0  24.0  Female    26.0              2.0            4.0   \n",
       "\n",
       "   Payment Delay Subscription Type Contract Length  Total Spend  \\\n",
       "0            3.0             Basic       Quarterly       421.00   \n",
       "1           27.0             Basic         Monthly       335.00   \n",
       "2           10.0             Basic       Quarterly       832.23   \n",
       "3            7.0           Premium         Monthly       535.00   \n",
       "4           23.0          Standard         Monthly       811.00   \n",
       "\n",
       "   Last Interaction  Churn  \n",
       "0              15.0    1.0  \n",
       "1              19.0    1.0  \n",
       "2              14.0    0.0  \n",
       "3              12.0    0.0  \n",
       "4              14.0    1.0  "
      ]
     },
     "execution_count": 66,
     "metadata": {},
     "output_type": "execute_result"
    }
   ],
   "source": [
    "df.head()"
   ]
  },
  {
   "cell_type": "code",
   "execution_count": 68,
   "id": "c74e89ea-9498-4bfc-a955-ad319392dad3",
   "metadata": {},
   "outputs": [
    {
     "data": {
      "text/html": [
       "<div>\n",
       "<style scoped>\n",
       "    .dataframe tbody tr th:only-of-type {\n",
       "        vertical-align: middle;\n",
       "    }\n",
       "\n",
       "    .dataframe tbody tr th {\n",
       "        vertical-align: top;\n",
       "    }\n",
       "\n",
       "    .dataframe thead th {\n",
       "        text-align: right;\n",
       "    }\n",
       "</style>\n",
       "<table border=\"1\" class=\"dataframe\">\n",
       "  <thead>\n",
       "    <tr style=\"text-align: right;\">\n",
       "      <th></th>\n",
       "      <th>Age</th>\n",
       "      <th>Gender</th>\n",
       "      <th>Tenure</th>\n",
       "      <th>Usage Frequency</th>\n",
       "      <th>Support Calls</th>\n",
       "      <th>Payment Delay</th>\n",
       "      <th>Subscription Type</th>\n",
       "      <th>Contract Length</th>\n",
       "      <th>Total Spend</th>\n",
       "      <th>Last Interaction</th>\n",
       "      <th>Churn</th>\n",
       "    </tr>\n",
       "  </thead>\n",
       "  <tbody>\n",
       "    <tr>\n",
       "      <th>0</th>\n",
       "      <td>54.0</td>\n",
       "      <td>Male</td>\n",
       "      <td>5.0</td>\n",
       "      <td>20.0</td>\n",
       "      <td>1.0</td>\n",
       "      <td>3.0</td>\n",
       "      <td>Basic</td>\n",
       "      <td>Quarterly</td>\n",
       "      <td>421.00</td>\n",
       "      <td>15.0</td>\n",
       "      <td>1.0</td>\n",
       "    </tr>\n",
       "    <tr>\n",
       "      <th>1</th>\n",
       "      <td>30.0</td>\n",
       "      <td>Female</td>\n",
       "      <td>33.0</td>\n",
       "      <td>21.0</td>\n",
       "      <td>10.0</td>\n",
       "      <td>27.0</td>\n",
       "      <td>Basic</td>\n",
       "      <td>Monthly</td>\n",
       "      <td>335.00</td>\n",
       "      <td>19.0</td>\n",
       "      <td>1.0</td>\n",
       "    </tr>\n",
       "    <tr>\n",
       "      <th>2</th>\n",
       "      <td>48.0</td>\n",
       "      <td>Female</td>\n",
       "      <td>8.0</td>\n",
       "      <td>20.0</td>\n",
       "      <td>3.0</td>\n",
       "      <td>10.0</td>\n",
       "      <td>Basic</td>\n",
       "      <td>Quarterly</td>\n",
       "      <td>832.23</td>\n",
       "      <td>14.0</td>\n",
       "      <td>0.0</td>\n",
       "    </tr>\n",
       "    <tr>\n",
       "      <th>3</th>\n",
       "      <td>34.0</td>\n",
       "      <td>Male</td>\n",
       "      <td>30.0</td>\n",
       "      <td>5.0</td>\n",
       "      <td>1.0</td>\n",
       "      <td>7.0</td>\n",
       "      <td>Premium</td>\n",
       "      <td>Monthly</td>\n",
       "      <td>535.00</td>\n",
       "      <td>12.0</td>\n",
       "      <td>0.0</td>\n",
       "    </tr>\n",
       "    <tr>\n",
       "      <th>4</th>\n",
       "      <td>24.0</td>\n",
       "      <td>Female</td>\n",
       "      <td>26.0</td>\n",
       "      <td>2.0</td>\n",
       "      <td>4.0</td>\n",
       "      <td>23.0</td>\n",
       "      <td>Standard</td>\n",
       "      <td>Monthly</td>\n",
       "      <td>811.00</td>\n",
       "      <td>14.0</td>\n",
       "      <td>1.0</td>\n",
       "    </tr>\n",
       "  </tbody>\n",
       "</table>\n",
       "</div>"
      ],
      "text/plain": [
       "    Age  Gender  Tenure  Usage Frequency  Support Calls  Payment Delay  \\\n",
       "0  54.0    Male     5.0             20.0            1.0            3.0   \n",
       "1  30.0  Female    33.0             21.0           10.0           27.0   \n",
       "2  48.0  Female     8.0             20.0            3.0           10.0   \n",
       "3  34.0    Male    30.0              5.0            1.0            7.0   \n",
       "4  24.0  Female    26.0              2.0            4.0           23.0   \n",
       "\n",
       "  Subscription Type Contract Length  Total Spend  Last Interaction  Churn  \n",
       "0             Basic       Quarterly       421.00              15.0    1.0  \n",
       "1             Basic         Monthly       335.00              19.0    1.0  \n",
       "2             Basic       Quarterly       832.23              14.0    0.0  \n",
       "3           Premium         Monthly       535.00              12.0    0.0  \n",
       "4          Standard         Monthly       811.00              14.0    1.0  "
      ]
     },
     "execution_count": 68,
     "metadata": {},
     "output_type": "execute_result"
    }
   ],
   "source": [
    "final_df = df.drop('CustomerID',axis=1)\n",
    "final_df.head()"
   ]
  },
  {
   "cell_type": "code",
   "execution_count": 69,
   "id": "9efdb9f5-21c7-4e41-a23c-4bb98e5f1b34",
   "metadata": {},
   "outputs": [
    {
     "name": "stdout",
     "output_type": "stream",
     "text": [
      "Index(['Gender', 'Subscription Type', 'Contract Length'], dtype='object')\n"
     ]
    }
   ],
   "source": [
    "categorical_colums = final_df.select_dtypes(include='object').columns\n",
    "print(categorical_colums)"
   ]
  },
  {
   "cell_type": "code",
   "execution_count": 71,
   "id": "c18422de-27df-40b8-aa76-f00e1fd77196",
   "metadata": {},
   "outputs": [
    {
     "data": {
      "text/html": [
       "<div>\n",
       "<style scoped>\n",
       "    .dataframe tbody tr th:only-of-type {\n",
       "        vertical-align: middle;\n",
       "    }\n",
       "\n",
       "    .dataframe tbody tr th {\n",
       "        vertical-align: top;\n",
       "    }\n",
       "\n",
       "    .dataframe thead th {\n",
       "        text-align: right;\n",
       "    }\n",
       "</style>\n",
       "<table border=\"1\" class=\"dataframe\">\n",
       "  <thead>\n",
       "    <tr style=\"text-align: right;\">\n",
       "      <th></th>\n",
       "      <th>Age</th>\n",
       "      <th>Tenure</th>\n",
       "      <th>Usage Frequency</th>\n",
       "      <th>Support Calls</th>\n",
       "      <th>Payment Delay</th>\n",
       "      <th>Total Spend</th>\n",
       "      <th>Last Interaction</th>\n",
       "      <th>Churn</th>\n",
       "      <th>Gender_Male</th>\n",
       "      <th>Subscription Type_Premium</th>\n",
       "      <th>Subscription Type_Standard</th>\n",
       "      <th>Contract Length_Monthly</th>\n",
       "      <th>Contract Length_Quarterly</th>\n",
       "    </tr>\n",
       "  </thead>\n",
       "  <tbody>\n",
       "    <tr>\n",
       "      <th>0</th>\n",
       "      <td>54.0</td>\n",
       "      <td>5.0</td>\n",
       "      <td>20.0</td>\n",
       "      <td>1.0</td>\n",
       "      <td>3.0</td>\n",
       "      <td>421.00</td>\n",
       "      <td>15.0</td>\n",
       "      <td>1.0</td>\n",
       "      <td>1</td>\n",
       "      <td>0</td>\n",
       "      <td>0</td>\n",
       "      <td>0</td>\n",
       "      <td>1</td>\n",
       "    </tr>\n",
       "    <tr>\n",
       "      <th>1</th>\n",
       "      <td>30.0</td>\n",
       "      <td>33.0</td>\n",
       "      <td>21.0</td>\n",
       "      <td>10.0</td>\n",
       "      <td>27.0</td>\n",
       "      <td>335.00</td>\n",
       "      <td>19.0</td>\n",
       "      <td>1.0</td>\n",
       "      <td>0</td>\n",
       "      <td>0</td>\n",
       "      <td>0</td>\n",
       "      <td>1</td>\n",
       "      <td>0</td>\n",
       "    </tr>\n",
       "    <tr>\n",
       "      <th>2</th>\n",
       "      <td>48.0</td>\n",
       "      <td>8.0</td>\n",
       "      <td>20.0</td>\n",
       "      <td>3.0</td>\n",
       "      <td>10.0</td>\n",
       "      <td>832.23</td>\n",
       "      <td>14.0</td>\n",
       "      <td>0.0</td>\n",
       "      <td>0</td>\n",
       "      <td>0</td>\n",
       "      <td>0</td>\n",
       "      <td>0</td>\n",
       "      <td>1</td>\n",
       "    </tr>\n",
       "    <tr>\n",
       "      <th>3</th>\n",
       "      <td>34.0</td>\n",
       "      <td>30.0</td>\n",
       "      <td>5.0</td>\n",
       "      <td>1.0</td>\n",
       "      <td>7.0</td>\n",
       "      <td>535.00</td>\n",
       "      <td>12.0</td>\n",
       "      <td>0.0</td>\n",
       "      <td>1</td>\n",
       "      <td>1</td>\n",
       "      <td>0</td>\n",
       "      <td>1</td>\n",
       "      <td>0</td>\n",
       "    </tr>\n",
       "    <tr>\n",
       "      <th>4</th>\n",
       "      <td>24.0</td>\n",
       "      <td>26.0</td>\n",
       "      <td>2.0</td>\n",
       "      <td>4.0</td>\n",
       "      <td>23.0</td>\n",
       "      <td>811.00</td>\n",
       "      <td>14.0</td>\n",
       "      <td>1.0</td>\n",
       "      <td>0</td>\n",
       "      <td>0</td>\n",
       "      <td>1</td>\n",
       "      <td>1</td>\n",
       "      <td>0</td>\n",
       "    </tr>\n",
       "  </tbody>\n",
       "</table>\n",
       "</div>"
      ],
      "text/plain": [
       "    Age  Tenure  Usage Frequency  Support Calls  Payment Delay  Total Spend  \\\n",
       "0  54.0     5.0             20.0            1.0            3.0       421.00   \n",
       "1  30.0    33.0             21.0           10.0           27.0       335.00   \n",
       "2  48.0     8.0             20.0            3.0           10.0       832.23   \n",
       "3  34.0    30.0              5.0            1.0            7.0       535.00   \n",
       "4  24.0    26.0              2.0            4.0           23.0       811.00   \n",
       "\n",
       "   Last Interaction  Churn  Gender_Male  Subscription Type_Premium  \\\n",
       "0              15.0    1.0            1                          0   \n",
       "1              19.0    1.0            0                          0   \n",
       "2              14.0    0.0            0                          0   \n",
       "3              12.0    0.0            1                          1   \n",
       "4              14.0    1.0            0                          0   \n",
       "\n",
       "   Subscription Type_Standard  Contract Length_Monthly  \\\n",
       "0                           0                        0   \n",
       "1                           0                        1   \n",
       "2                           0                        0   \n",
       "3                           0                        1   \n",
       "4                           1                        1   \n",
       "\n",
       "   Contract Length_Quarterly  \n",
       "0                          1  \n",
       "1                          0  \n",
       "2                          1  \n",
       "3                          0  \n",
       "4                          0  "
      ]
     },
     "execution_count": 71,
     "metadata": {},
     "output_type": "execute_result"
    }
   ],
   "source": [
    "final_df = pd.get_dummies(final_df,columns=categorical_colums,drop_first=True)\n",
    "final_df.head()"
   ]
  },
  {
   "cell_type": "code",
   "execution_count": 72,
   "id": "0fc274e8-1ed7-43b9-ba3e-e9fa5cec098d",
   "metadata": {},
   "outputs": [
    {
     "data": {
      "text/plain": [
       "((1000, 12), (1000,))"
      ]
     },
     "execution_count": 72,
     "metadata": {},
     "output_type": "execute_result"
    }
   ],
   "source": [
    "## split the data dependent and dependent variable\n",
    "X = final_df.drop('Churn',axis=1)\n",
    "y = final_df['Churn']\n",
    "X.shape, y.shape"
   ]
  },
  {
   "cell_type": "code",
   "execution_count": 75,
   "id": "86e2b837-e6c8-481b-bb59-bcd511b0a15e",
   "metadata": {},
   "outputs": [
    {
     "data": {
      "text/plain": [
       "((800, 12), (200, 12))"
      ]
     },
     "execution_count": 75,
     "metadata": {},
     "output_type": "execute_result"
    }
   ],
   "source": [
    "## split the data into train test split\n",
    "from sklearn.model_selection import train_test_split\n",
    "X_train, X_test, y_train,y_test = train_test_split(X,y,test_size=0.2,random_state=42)\n",
    "X_train.shape, X_test.shape"
   ]
  },
  {
   "cell_type": "code",
   "execution_count": 79,
   "id": "8c9494c2-9a86-4afb-88fe-4a93f34ec3a2",
   "metadata": {},
   "outputs": [
    {
     "data": {
      "text/plain": [
       "array([[-0.89993753,  1.09711602,  1.52827608, ..., -0.68796548,\n",
       "        -0.56772709, -0.74390729],\n",
       "       [ 0.93784173,  1.32730034,  0.72126561, ...,  1.4535613 ,\n",
       "         1.76140969, -0.74390729],\n",
       "       [ 0.40182278,  1.21220818,  0.02954235, ..., -0.68796548,\n",
       "        -0.56772709, -0.74390729],\n",
       "       ...,\n",
       "       [ 0.17210037,  1.1546621 ,  1.41298887, ..., -0.68796548,\n",
       "        -0.56772709,  1.34425353],\n",
       "       [-0.36391858,  0.80938562,  1.18241445, ...,  1.4535613 ,\n",
       "        -0.56772709, -0.74390729],\n",
       "       [ 0.47839691,  0.52165522, -0.20103207, ...,  1.4535613 ,\n",
       "        -0.56772709, -0.74390729]])"
      ]
     },
     "execution_count": 79,
     "metadata": {},
     "output_type": "execute_result"
    }
   ],
   "source": [
    "# Scale numeric features\n",
    "from sklearn.preprocessing  import StandardScaler\n",
    "scaler = StandardScaler()\n",
    "X_train = scaler.fit_transform(X_train)\n",
    "X_test = scaler.transform(X_test)\n",
    "X_train\n"
   ]
  },
  {
   "cell_type": "code",
   "execution_count": 76,
   "id": "7d10bb19-926d-44e0-8b41-1f7fb2ff03f9",
   "metadata": {},
   "outputs": [],
   "source": [
    "## import liabary\n",
    "import tensorflow as tf\n",
    "from tensorflow.keras.models import Sequential\n",
    "from tensorflow.keras.layers import Dense\n",
    "from sklearn.metrics import confusion_matrix, classification_report, accuracy_score\n"
   ]
  },
  {
   "cell_type": "code",
   "execution_count": 80,
   "id": "2330c1c3-b098-4240-895b-e0047f5bfbca",
   "metadata": {},
   "outputs": [],
   "source": [
    "# Step 4: Build the ANN model\n",
    "model = Sequential()\n",
    "\n",
    "# First hidden layer (32 neurons)\n",
    "model.add(Dense(32, input_dim=X_train.shape[1], activation='relu'))\n",
    "\n",
    "# Second hidden layer (16 neurons)\n",
    "model.add(Dense(16, activation='relu'))\n",
    "\n",
    "# Output layer (1 neuron for binary classification)\n",
    "model.add(Dense(1, activation='sigmoid'))\n",
    "\n",
    "# Compile the model\n",
    "model.compile(optimizer='adam', loss='binary_crossentropy', metrics=['accuracy'])\n"
   ]
  },
  {
   "cell_type": "code",
   "execution_count": 81,
   "id": "546eaf24-0ef0-4fd2-b180-dde116a52347",
   "metadata": {},
   "outputs": [
    {
     "name": "stdout",
     "output_type": "stream",
     "text": [
      "Epoch 1/50\n",
      "20/20 [==============================] - 1s 19ms/step - loss: 0.6802 - accuracy: 0.5625 - val_loss: 0.6327 - val_accuracy: 0.7063\n",
      "Epoch 2/50\n",
      "20/20 [==============================] - 0s 4ms/step - loss: 0.6119 - accuracy: 0.7094 - val_loss: 0.5753 - val_accuracy: 0.7563\n",
      "Epoch 3/50\n",
      "20/20 [==============================] - 0s 4ms/step - loss: 0.5542 - accuracy: 0.7578 - val_loss: 0.5251 - val_accuracy: 0.8000\n",
      "Epoch 4/50\n",
      "20/20 [==============================] - 0s 4ms/step - loss: 0.5037 - accuracy: 0.8094 - val_loss: 0.4807 - val_accuracy: 0.8313\n",
      "Epoch 5/50\n",
      "20/20 [==============================] - 0s 4ms/step - loss: 0.4612 - accuracy: 0.8250 - val_loss: 0.4450 - val_accuracy: 0.8375\n",
      "Epoch 6/50\n",
      "20/20 [==============================] - 0s 4ms/step - loss: 0.4256 - accuracy: 0.8469 - val_loss: 0.4213 - val_accuracy: 0.8375\n",
      "Epoch 7/50\n",
      "20/20 [==============================] - 0s 4ms/step - loss: 0.4005 - accuracy: 0.8516 - val_loss: 0.4053 - val_accuracy: 0.8375\n",
      "Epoch 8/50\n",
      "20/20 [==============================] - 0s 4ms/step - loss: 0.3843 - accuracy: 0.8500 - val_loss: 0.3939 - val_accuracy: 0.8500\n",
      "Epoch 9/50\n",
      "20/20 [==============================] - 0s 4ms/step - loss: 0.3707 - accuracy: 0.8516 - val_loss: 0.3885 - val_accuracy: 0.8562\n",
      "Epoch 10/50\n",
      "20/20 [==============================] - 0s 4ms/step - loss: 0.3620 - accuracy: 0.8609 - val_loss: 0.3818 - val_accuracy: 0.8562\n",
      "Epoch 11/50\n",
      "20/20 [==============================] - 0s 4ms/step - loss: 0.3539 - accuracy: 0.8609 - val_loss: 0.3787 - val_accuracy: 0.8562\n",
      "Epoch 12/50\n",
      "20/20 [==============================] - 0s 4ms/step - loss: 0.3485 - accuracy: 0.8609 - val_loss: 0.3753 - val_accuracy: 0.8562\n",
      "Epoch 13/50\n",
      "20/20 [==============================] - 0s 4ms/step - loss: 0.3420 - accuracy: 0.8609 - val_loss: 0.3720 - val_accuracy: 0.8562\n",
      "Epoch 14/50\n",
      "20/20 [==============================] - 0s 4ms/step - loss: 0.3376 - accuracy: 0.8672 - val_loss: 0.3704 - val_accuracy: 0.8625\n",
      "Epoch 15/50\n",
      "20/20 [==============================] - 0s 10ms/step - loss: 0.3323 - accuracy: 0.8641 - val_loss: 0.3686 - val_accuracy: 0.8562\n",
      "Epoch 16/50\n",
      "20/20 [==============================] - 0s 4ms/step - loss: 0.3285 - accuracy: 0.8672 - val_loss: 0.3663 - val_accuracy: 0.8562\n",
      "Epoch 17/50\n",
      "20/20 [==============================] - 0s 4ms/step - loss: 0.3237 - accuracy: 0.8719 - val_loss: 0.3642 - val_accuracy: 0.8625\n",
      "Epoch 18/50\n",
      "20/20 [==============================] - 0s 4ms/step - loss: 0.3200 - accuracy: 0.8766 - val_loss: 0.3636 - val_accuracy: 0.8562\n",
      "Epoch 19/50\n",
      "20/20 [==============================] - 0s 4ms/step - loss: 0.3165 - accuracy: 0.8766 - val_loss: 0.3622 - val_accuracy: 0.8562\n",
      "Epoch 20/50\n",
      "20/20 [==============================] - 0s 4ms/step - loss: 0.3129 - accuracy: 0.8875 - val_loss: 0.3588 - val_accuracy: 0.8687\n",
      "Epoch 21/50\n",
      "20/20 [==============================] - 0s 4ms/step - loss: 0.3078 - accuracy: 0.8859 - val_loss: 0.3595 - val_accuracy: 0.8687\n",
      "Epoch 22/50\n",
      "20/20 [==============================] - 0s 3ms/step - loss: 0.3048 - accuracy: 0.8859 - val_loss: 0.3572 - val_accuracy: 0.8625\n",
      "Epoch 23/50\n",
      "20/20 [==============================] - 0s 4ms/step - loss: 0.3024 - accuracy: 0.8906 - val_loss: 0.3559 - val_accuracy: 0.8687\n",
      "Epoch 24/50\n",
      "20/20 [==============================] - 0s 4ms/step - loss: 0.2969 - accuracy: 0.8891 - val_loss: 0.3582 - val_accuracy: 0.8625\n",
      "Epoch 25/50\n",
      "20/20 [==============================] - 0s 4ms/step - loss: 0.2930 - accuracy: 0.8906 - val_loss: 0.3555 - val_accuracy: 0.8687\n",
      "Epoch 26/50\n",
      "20/20 [==============================] - 0s 4ms/step - loss: 0.2892 - accuracy: 0.8922 - val_loss: 0.3544 - val_accuracy: 0.8687\n",
      "Epoch 27/50\n",
      "20/20 [==============================] - 0s 4ms/step - loss: 0.2873 - accuracy: 0.8938 - val_loss: 0.3537 - val_accuracy: 0.8687\n",
      "Epoch 28/50\n",
      "20/20 [==============================] - 0s 4ms/step - loss: 0.2821 - accuracy: 0.8953 - val_loss: 0.3529 - val_accuracy: 0.8687\n",
      "Epoch 29/50\n",
      "20/20 [==============================] - 0s 4ms/step - loss: 0.2793 - accuracy: 0.8969 - val_loss: 0.3510 - val_accuracy: 0.8750\n",
      "Epoch 30/50\n",
      "20/20 [==============================] - 0s 4ms/step - loss: 0.2763 - accuracy: 0.9000 - val_loss: 0.3525 - val_accuracy: 0.8750\n",
      "Epoch 31/50\n",
      "20/20 [==============================] - 0s 3ms/step - loss: 0.2733 - accuracy: 0.9031 - val_loss: 0.3509 - val_accuracy: 0.8750\n",
      "Epoch 32/50\n",
      "20/20 [==============================] - 0s 4ms/step - loss: 0.2693 - accuracy: 0.9031 - val_loss: 0.3489 - val_accuracy: 0.8750\n",
      "Epoch 33/50\n",
      "20/20 [==============================] - 0s 3ms/step - loss: 0.2659 - accuracy: 0.9031 - val_loss: 0.3504 - val_accuracy: 0.8750\n",
      "Epoch 34/50\n",
      "20/20 [==============================] - 0s 4ms/step - loss: 0.2631 - accuracy: 0.9062 - val_loss: 0.3502 - val_accuracy: 0.8750\n",
      "Epoch 35/50\n",
      "20/20 [==============================] - 0s 4ms/step - loss: 0.2600 - accuracy: 0.9016 - val_loss: 0.3493 - val_accuracy: 0.8813\n",
      "Epoch 36/50\n",
      "20/20 [==============================] - 0s 4ms/step - loss: 0.2561 - accuracy: 0.9078 - val_loss: 0.3491 - val_accuracy: 0.8813\n",
      "Epoch 37/50\n",
      "20/20 [==============================] - 0s 4ms/step - loss: 0.2540 - accuracy: 0.9094 - val_loss: 0.3477 - val_accuracy: 0.8813\n",
      "Epoch 38/50\n",
      "20/20 [==============================] - 0s 4ms/step - loss: 0.2506 - accuracy: 0.9109 - val_loss: 0.3475 - val_accuracy: 0.8813\n",
      "Epoch 39/50\n",
      "20/20 [==============================] - 0s 4ms/step - loss: 0.2484 - accuracy: 0.9062 - val_loss: 0.3484 - val_accuracy: 0.8875\n",
      "Epoch 40/50\n",
      "20/20 [==============================] - 0s 3ms/step - loss: 0.2450 - accuracy: 0.9078 - val_loss: 0.3482 - val_accuracy: 0.8813\n",
      "Epoch 41/50\n",
      "20/20 [==============================] - 0s 4ms/step - loss: 0.2422 - accuracy: 0.9125 - val_loss: 0.3489 - val_accuracy: 0.8813\n",
      "Epoch 42/50\n",
      "20/20 [==============================] - 0s 4ms/step - loss: 0.2389 - accuracy: 0.9062 - val_loss: 0.3472 - val_accuracy: 0.8750\n",
      "Epoch 43/50\n",
      "20/20 [==============================] - 0s 4ms/step - loss: 0.2382 - accuracy: 0.9109 - val_loss: 0.3457 - val_accuracy: 0.8813\n",
      "Epoch 44/50\n",
      "20/20 [==============================] - 0s 4ms/step - loss: 0.2335 - accuracy: 0.9094 - val_loss: 0.3470 - val_accuracy: 0.8750\n",
      "Epoch 45/50\n",
      "20/20 [==============================] - 0s 3ms/step - loss: 0.2310 - accuracy: 0.9078 - val_loss: 0.3482 - val_accuracy: 0.8813\n",
      "Epoch 46/50\n",
      "20/20 [==============================] - 0s 4ms/step - loss: 0.2282 - accuracy: 0.9094 - val_loss: 0.3474 - val_accuracy: 0.8813\n",
      "Epoch 47/50\n",
      "20/20 [==============================] - 0s 3ms/step - loss: 0.2253 - accuracy: 0.9109 - val_loss: 0.3474 - val_accuracy: 0.8813\n",
      "Epoch 48/50\n",
      "20/20 [==============================] - 0s 3ms/step - loss: 0.2232 - accuracy: 0.9125 - val_loss: 0.3490 - val_accuracy: 0.8813\n",
      "Epoch 49/50\n",
      "20/20 [==============================] - 0s 4ms/step - loss: 0.2209 - accuracy: 0.9094 - val_loss: 0.3478 - val_accuracy: 0.8875\n",
      "Epoch 50/50\n",
      "20/20 [==============================] - 0s 4ms/step - loss: 0.2175 - accuracy: 0.9156 - val_loss: 0.3467 - val_accuracy: 0.8938\n"
     ]
    }
   ],
   "source": [
    "# Step 5: Train the model\n",
    "history = model.fit(\n",
    "    X_train, y_train,\n",
    "    validation_split=0.2,  # 20% of training data for validation\n",
    "    epochs=50,\n",
    "    batch_size=32,\n",
    "    verbose=1\n",
    ")"
   ]
  },
  {
   "cell_type": "code",
   "execution_count": 82,
   "id": "8047af88-b19d-49c9-9898-5e2a29d13473",
   "metadata": {},
   "outputs": [
    {
     "name": "stdout",
     "output_type": "stream",
     "text": [
      "7/7 [==============================] - 0s 2ms/step\n"
     ]
    }
   ],
   "source": [
    "# Step 6: Evaluate the model\n",
    "y_pred = (model.predict(X_test) > 0.5).astype(\"int32\")"
   ]
  },
  {
   "cell_type": "code",
   "execution_count": 84,
   "id": "ecbff814-ae0d-4fdd-958a-f5f15b05b27b",
   "metadata": {},
   "outputs": [],
   "source": [
    "from sklearn.metrics import accuracy_score,confusion_matrix,classification_report"
   ]
  },
  {
   "cell_type": "code",
   "execution_count": 89,
   "id": "9ffac12c-28ed-4a8b-9040-09e365fe73c0",
   "metadata": {},
   "outputs": [
    {
     "name": "stdout",
     "output_type": "stream",
     "text": [
      "Accuracy: 0.855\n",
      "Confusion Matrix:\n",
      " [[75 22]\n",
      " [ 7 96]]\n",
      "Classification Report:\n",
      "               precision    recall  f1-score   support\n",
      "\n",
      "         0.0       0.91      0.77      0.84        97\n",
      "         1.0       0.81      0.93      0.87       103\n",
      "\n",
      "    accuracy                           0.85       200\n",
      "   macro avg       0.86      0.85      0.85       200\n",
      "weighted avg       0.86      0.85      0.85       200\n",
      "\n"
     ]
    }
   ],
   "source": [
    "print(\"Accuracy:\", accuracy_score(y_test, y_pred))\n",
    "print(\"Confusion Matrix:\\n\", confusion_matrix(y_test, y_pred))\n",
    "print(\"Classification Report:\\n\", classification_report(y_test, y_pred))"
   ]
  },
  {
   "cell_type": "code",
   "execution_count": 86,
   "id": "836ea268-a7d4-4fd1-9169-af958b108df1",
   "metadata": {},
   "outputs": [
    {
     "data": {
      "image/png": "[encoded data removed]",
      "text/plain": [
       "<Figure size 432x288 with 1 Axes>"
      ]
     },
     "metadata": {
      "needs_background": "light"
     },
     "output_type": "display_data"
    }
   ],
   "source": [
    "# Step 7: Plot training history\n",
    "plt.plot(history.history['accuracy'], label='train_accuracy')\n",
    "plt.plot(history.history['val_accuracy'], label='val_accuracy')\n",
    "plt.xlabel('Epoch')\n",
    "plt.ylabel('Accuracy')\n",
    "plt.title('Training vs Validation Accuracy')\n",
    "plt.legend()\n",
    "plt.show()\n"
   ]
  },
  {
   "cell_type": "code",
   "execution_count": 87,
   "id": "853dbed0-90cc-40f3-8ed4-ec5f8682f9d3",
   "metadata": {},
   "outputs": [
    {
     "data": {
      "image/png": "[encoded data removed]",
      "text/plain": [
       "<Figure size 432x288 with 1 Axes>"
      ]
     },
     "metadata": {
      "needs_background": "light"
     },
     "output_type": "display_data"
    }
   ],
   "source": [
    "plt.plot(history.history['loss'], label='train_loss')\n",
    "plt.plot(history.history['val_loss'], label='val_loss')\n",
    "plt.xlabel('Epoch')\n",
    "plt.ylabel('Loss')\n",
    "plt.title('Training vs Validation Loss')\n",
    "plt.legend()\n",
    "plt.show()"
   ]
  },
  {
   "cell_type": "code",
   "execution_count": null,
   "id": "6315a0cc-22bd-4dd7-89b5-e9c543fea017",
   "metadata": {},
   "outputs": [],
   "source": []
  }
 ],
 "metadata": {
  "kernelspec": {
   "display_name": "Python 3 (ipykernel)",
   "language": "python",
   "name": "python3"
  },
  "language_info": {
   "codemirror_mode": {
    "name": "ipython",
    "version": 3
   },
   "file_extension": ".py",
   "mimetype": "text/x-python",
   "name": "python",
   "nbconvert_exporter": "python",
   "pygments_lexer": "ipython3",
   "version": "3.9.12"
  }
 },
 "nbformat": 4,
 "nbformat_minor": 5
}
